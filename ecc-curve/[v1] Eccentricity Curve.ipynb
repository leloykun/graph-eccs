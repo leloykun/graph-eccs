{
 "cells": [
  {
   "cell_type": "code",
   "execution_count": 344,
   "id": "closed-centre",
   "metadata": {},
   "outputs": [],
   "source": [
    "import matplotlib.pyplot as plt\n",
    "import numpy as np\n",
    "\n",
    "import networkx as nx\n",
    "\n",
    "import geomstats.backend as gs\n",
    "from geomstats.geometry.poincare_ball import PoincareBall\n",
    "from geomstats.geometry.hyperbolic import Hyperbolic\n",
    "from geomstats.geometry.hypersphere import Hypersphere"
   ]
  },
  {
   "cell_type": "code",
   "execution_count": 407,
   "id": "separate-strand",
   "metadata": {},
   "outputs": [],
   "source": [
    "CURVATURE = -100\n",
    "scale = 1/np.sqrt(-CURVATURE)"
   ]
  },
  {
   "cell_type": "code",
   "execution_count": 408,
   "id": "black-compromise",
   "metadata": {},
   "outputs": [],
   "source": [
    "pb_manifold = PoincareBall(dim=2, scale=scale)\n",
    "pb_metric = pb_manifold.metric"
   ]
  },
  {
   "cell_type": "code",
   "execution_count": 409,
   "id": "innocent-master",
   "metadata": {},
   "outputs": [],
   "source": [
    "N = 11\n",
    "points = pb_manifold.random_uniform(N, 0.1)\n",
    "points_dist = pb_metric.dist_pairwise(points)"
   ]
  },
  {
   "cell_type": "code",
   "execution_count": 410,
   "id": "supported-inquiry",
   "metadata": {},
   "outputs": [
    {
     "data": {
      "text/plain": [
       "array([[ 0.04882567, -0.0217167 ],\n",
       "       [ 0.0438775 , -0.02136312],\n",
       "       [-0.02630758, -0.02124106],\n",
       "       [-0.01361901,  0.04115643],\n",
       "       [-0.01209446, -0.02182378],\n",
       "       [-0.02282932,  0.0115816 ],\n",
       "       [ 0.02445213,  0.04343853],\n",
       "       [ 0.04161571, -0.0487102 ],\n",
       "       [-0.04111375, -0.00823668],\n",
       "       [ 0.03979361, -0.04268003],\n",
       "       [-0.00060033, -0.02502584]])"
      ]
     },
     "execution_count": 410,
     "metadata": {},
     "output_type": "execute_result"
    }
   ],
   "source": [
    "points"
   ]
  },
  {
   "cell_type": "code",
   "execution_count": 411,
   "id": "failing-headset",
   "metadata": {},
   "outputs": [],
   "source": [
    "G = nx.Graph(points_dist)\n",
    "T = nx.minimum_spanning_tree(G)"
   ]
  },
  {
   "cell_type": "code",
   "execution_count": 412,
   "id": "above-display",
   "metadata": {},
   "outputs": [],
   "source": [
    "weights = [e[2]['weight'] for e in T.edges(data=True)]"
   ]
  },
  {
   "cell_type": "code",
   "execution_count": 413,
   "id": "subject-device",
   "metadata": {},
   "outputs": [
    {
     "data": {
      "text/plain": [
       "{'weight': 0.0009947596117854118}"
      ]
     },
     "execution_count": 413,
     "metadata": {},
     "output_type": "execute_result"
    }
   ],
   "source": [
    "T.get_edge_data(0,1)"
   ]
  },
  {
   "cell_type": "code",
   "execution_count": 414,
   "id": "smart-weapon",
   "metadata": {},
   "outputs": [],
   "source": [
    "dist_edges = {}\n",
    "for i in range(N):\n",
    "    for j in range(N):\n",
    "        d = points_dist[i][j]\n",
    "        if d == 0: continue\n",
    "        if d in dist_edges:\n",
    "            dist_edges[d].append((i, j))\n",
    "        else:\n",
    "            dist_edges[d] = [(i, j)]"
   ]
  },
  {
   "cell_type": "code",
   "execution_count": 415,
   "id": "blond-trunk",
   "metadata": {},
   "outputs": [],
   "source": [
    "graphs = []\n",
    "g = nx.Graph()\n",
    "for i in range(N):\n",
    "    g.add_node(i)"
   ]
  },
  {
   "cell_type": "code",
   "execution_count": 416,
   "id": "adaptive-document",
   "metadata": {},
   "outputs": [],
   "source": [
    "for d in sorted(dist_edges):\n",
    "    g = g.copy()\n",
    "    for e in dist_edges[d]:\n",
    "        g.add_edge(*e)\n",
    "    graphs.append(g.copy())"
   ]
  },
  {
   "cell_type": "code",
   "execution_count": 417,
   "id": "olive-tuner",
   "metadata": {},
   "outputs": [],
   "source": [
    "eccs = []\n",
    "for i in range(len(graphs)):\n",
    "    if nx.is_connected(graphs[i]):\n",
    "        ecc_sum = sum([nx.eccentricity(graphs[i], j) for j in range(N)])\n",
    "        #print(i, ecc_sum/N)\n",
    "        eccs.append(ecc_sum/N)\n",
    "    else:\n",
    "        #print(i, \"not connected\")\n",
    "        pass"
   ]
  },
  {
   "cell_type": "code",
   "execution_count": 418,
   "id": "educated-drama",
   "metadata": {},
   "outputs": [
    {
     "data": {
      "text/plain": [
       "Text(0, 0.5, 'Average Eccentricity')"
      ]
     },
     "execution_count": 418,
     "metadata": {},
     "output_type": "execute_result"
    },
    {
     "data": {
      "image/png": "[encoded data removed]",
      "text/plain": [
       "<Figure size 432x288 with 1 Axes>"
      ]
     },
     "metadata": {
      "needs_background": "light"
     },
     "output_type": "display_data"
    }
   ],
   "source": [
    "plt.plot(eccs)\n",
    "plt.title(\"Eccentricity Curve of Samples on Curvature {} & Scale {}\".format(CURVATURE, scale))\n",
    "plt.ylabel(\"Average Eccentricity\")"
   ]
  },
  {
   "cell_type": "code",
   "execution_count": null,
   "id": "improved-lottery",
   "metadata": {},
   "outputs": [],
   "source": []
  }
 ],
 "metadata": {
  "kernelspec": {
   "display_name": "mlgpu",
   "language": "python",
   "name": "mlgpu"
  },
  "language_info": {
   "codemirror_mode": {
    "name": "ipython",
    "version": 3
   },
   "file_extension": ".py",
   "mimetype": "text/x-python",
   "name": "python",
   "nbconvert_exporter": "python",
   "pygments_lexer": "ipython3",
   "version": "3.8.8"
  }
 },
 "nbformat": 4,
 "nbformat_minor": 5
}
